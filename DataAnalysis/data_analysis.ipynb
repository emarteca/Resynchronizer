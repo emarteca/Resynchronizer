{
 "cells": [
  {
   "cell_type": "code",
   "execution_count": null,
   "id": "mental-polyester",
   "metadata": {},
   "outputs": [],
   "source": [
    "%run data_analysis.py\n",
    "\n",
    "# notebook specific commands\n",
    "%matplotlib inline\n",
    "import warnings\n",
    "warnings.filterwarnings('ignore')"
   ]
  },
  {
   "cell_type": "code",
   "execution_count": null,
   "id": "immediate-processor",
   "metadata": {},
   "outputs": [],
   "source": [
    "def load_data_for_package(pkgname):\n",
    "\n",
    "\tglobal bothswap_jest_tests\n",
    "\tglobal noswap_jest_tests\n",
    "\tglobal bothswap_tests_timing\n",
    "\tglobal noswap_tests_timing\n",
    "\tglobal comp_mean_table\n",
    "\tglobal result_table\n",
    "\n",
    "\tDATA_DIR = \"../ExperimentalData/\"\n",
    "\tVALID_PKG_NAMES = [\"bit\", \"desktop\", \"gatsby\", \"kactus\", \"reflect\", \"svelte\", \"wire-desktop\", \"cspell\", \"enquirer\", \n",
    "\t\t\t\t\t   \"get\", \"mattermost-redux\", \"sapper\", \"vscode-psl\", \"zapier-platform-cli\", \n",
    "\t\t\t\t\t   \"cucumber-js\", \"fiddle\", \"jamserve\", \"nodemonorepo\", \"sourcecred\", \"webdriverio\"]\n",
    "\n",
    "\tif not pkgname in VALID_PKG_NAMES:\n",
    "\t\tprint(\"Invalid package name, not loading data\")\n",
    "\t\treturn\n",
    "\n",
    "\n",
    "\t# read in the dataframes, here they are & separated\n",
    "\n",
    "\tbothswap_jest_tests = process_jest_test_output(DATA_DIR + pkgname + \"/test_times_bothswap_50times.out\")\n",
    "\tnoswap_jest_tests = process_jest_test_output(DATA_DIR + pkgname + \"/test_times_noswap_50times.out\")\n",
    "\n",
    "\tnoswap_tests_timing = get_test_timing_from_junit( bothswap_jest_tests)\n",
    "\tnoswap_tests_timing = get_test_timing_from_junit( noswap_jest_tests)\n",
    "\n",
    "\tcomp_mean_table = gen_jest_test_comparative_mean_table( noswap_jest_tests, bothswap_jest_tests)\n",
    "\tresult_table = gen_result_table_for_tests(noswap_tests_timing, noswap_tests_timing)\n",
    "\n",
    "\t# example: generate the % speedup scatterplot for package tests\n",
    "\t# scatterplot_test_speedup(comp_mean_table, pkgname) \n",
    "\n",
    "\t# example: scatterplot of runtimes for one specific test (test 117)\n",
    "\t# plot_test_times( bothswap_jest_tests, noswap_jest_tests, 117) \n"
   ]
  },
  {
   "cell_type": "code",
   "execution_count": null,
   "id": "french-thursday",
   "metadata": {},
   "outputs": [],
   "source": [
    "pkgname = \"kactus\"\n",
    "\n",
    "load_data_for_package(pkgname) "
   ]
  },
  {
   "cell_type": "markdown",
   "id": "hydraulic-marine",
   "metadata": {},
   "source": [
    "### Figure 10 in the paper"
   ]
  },
  {
   "cell_type": "code",
   "execution_count": null,
   "id": "southeast-health",
   "metadata": {},
   "outputs": [],
   "source": [
    "scatterplot_test_speedup(comp_mean_table, pkgname) "
   ]
  },
  {
   "cell_type": "markdown",
   "id": "median-genetics",
   "metadata": {},
   "source": [
    "### Figure 11 in the paper"
   ]
  },
  {
   "cell_type": "code",
   "execution_count": null,
   "id": "removable-stamp",
   "metadata": {},
   "outputs": [],
   "source": [
    "plot_test_times( bothswap_jest_tests, noswap_jest_tests, 117) "
   ]
  },
  {
   "cell_type": "markdown",
   "id": "honey-rally",
   "metadata": {},
   "source": [
    "### Second graph in Supplementary Materials section 3"
   ]
  },
  {
   "cell_type": "code",
   "execution_count": null,
   "id": "driving-beads",
   "metadata": {},
   "outputs": [],
   "source": [
    "load_data_for_package(\"webdriverio\")\n",
    "scatterplot_test_speedup(comp_mean_table, \"webdriverio\")"
   ]
  },
  {
   "cell_type": "markdown",
   "id": "passing-housing",
   "metadata": {},
   "source": [
    "### First graph in Supplementary Materials section 4"
   ]
  },
  {
   "cell_type": "code",
   "execution_count": null,
   "id": "connected-rhythm",
   "metadata": {},
   "outputs": [],
   "source": [
    "load_data_for_package(\"kactus\")\n",
    "plot_test_times( bothswap_jest_tests, noswap_jest_tests, 22)"
   ]
  }
 ],
 "metadata": {
  "kernelspec": {
   "display_name": "Python 3",
   "language": "python",
   "name": "python3"
  },
  "language_info": {
   "codemirror_mode": {
    "name": "ipython",
    "version": 3
   },
   "file_extension": ".py",
   "mimetype": "text/x-python",
   "name": "python",
   "nbconvert_exporter": "python",
   "pygments_lexer": "ipython3",
   "version": "3.9.4"
  }
 },
 "nbformat": 4,
 "nbformat_minor": 5
}
